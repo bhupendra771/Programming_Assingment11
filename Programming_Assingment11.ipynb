{
 "cells": [
  {
   "cell_type": "code",
   "execution_count": 12,
   "id": "d4088e24",
   "metadata": {},
   "outputs": [
    {
     "data": {
      "text/plain": [
       "['computer', 'science', 'portal']"
      ]
     },
     "execution_count": 12,
     "metadata": {},
     "output_type": "execute_result"
    }
   ],
   "source": [
    "# 1.\tWrite a Python program to find words which are greater than given length k?\n",
    "\n",
    "str1 = \"hello geeks for geeks is computer science portal\"\n",
    "\n",
    "def string_k(k,str):\n",
    "    string = []\n",
    "    text = str.split(\" \")\n",
    "    for i in text:\n",
    "#         print(i)\n",
    "        if len(i) >k:\n",
    "            string.append(i) \n",
    "            \n",
    "    return string\n",
    "\n",
    "string_k(5, str1)\n",
    "    \n",
    "\n"
   ]
  },
  {
   "cell_type": "code",
   "execution_count": 21,
   "id": "ddbc022d",
   "metadata": {},
   "outputs": [
    {
     "data": {
      "text/plain": [
       "'remving'"
      ]
     },
     "execution_count": 21,
     "metadata": {},
     "output_type": "execute_result"
    }
   ],
   "source": [
    "# 2.\tWrite a Python program for removing i-th character from a string?\n",
    "def remove(string, i):\n",
    "    a= string[:i]\n",
    "    b = string[i+1:]\n",
    "    return a+b\n",
    "remove(\"removing\", 3)\n"
   ]
  },
  {
   "cell_type": "code",
   "execution_count": 33,
   "id": "c223675c",
   "metadata": {},
   "outputs": [
    {
     "name": "stdout",
     "output_type": "stream",
     "text": [
      "['Write', 'a', 'Python', 'program', 'to', 'split', 'and', 'join', 'a', 'string']\n"
     ]
    },
    {
     "data": {
      "text/plain": [
       "'Write-a-Python-program-to-split-and-join-a-string'"
      ]
     },
     "execution_count": 33,
     "metadata": {},
     "output_type": "execute_result"
    }
   ],
   "source": [
    "# 3.\tWrite a Python program to split and join a string?\n",
    "# def splitjoin(str,i):\n",
    "#     a = str[:i]    \n",
    "#     b = str[i:]\n",
    "    \n",
    "#     return a+b\n",
    "\n",
    "# splitjoin(\"program\",3) \n",
    "def f_split(string):\n",
    "    t = string.split()\n",
    "    return t\n",
    "def f_join(string):\n",
    "    s = '-'.join(string)\n",
    "    return s\n",
    "\n",
    "print(f_split(\"Write a Python program to split and join a string\"))\n",
    "ss= f_split(\"Write a Python program to split and join a string\")\n",
    "\n",
    "f_join(ss)\n",
    "    \n"
   ]
  },
  {
   "cell_type": "code",
   "execution_count": 12,
   "id": "d2538b3b",
   "metadata": {},
   "outputs": [
    {
     "name": "stdout",
     "output_type": "stream",
     "text": [
      "inter string\n",
      "101012039445\n",
      "{'4', '0', '1', '5', '2', '3', '9'}\n",
      "Not binary string\n"
     ]
    }
   ],
   "source": [
    "# 4.\tWrite a Python to check if a given string is binary string or not?\n",
    "cc =input(\"inter string\\n\")\n",
    "type(cc)\n",
    "\n",
    "# import re\n",
    "# c = re.compile('[^01]')\n",
    "# if(len(c.findall(cc))):\n",
    "#     print(\"No\") # if length of list > 0 then it is not binary\n",
    "# else:\n",
    "#     print(\"Yes\")\n",
    "def check_string(string):\n",
    "    p = set (string)\n",
    "    print(p)\n",
    "    s ={'0','1'}\n",
    "    if s ==p or p=={'0'} or p== {'1'}:\n",
    "        print(\"String is binary\")\n",
    "    else:\n",
    "        print(\"Not binary string\")\n",
    "    \n",
    "check_string(cc)\n"
   ]
  },
  {
   "cell_type": "code",
   "execution_count": 42,
   "id": "062bcda8",
   "metadata": {},
   "outputs": [
    {
     "data": {
      "text/plain": [
       "' is Not'"
      ]
     },
     "execution_count": 42,
     "metadata": {},
     "output_type": "execute_result"
    }
   ],
   "source": [
    "# 5.\tWrite a Python program to find uncommon words from two Strings?\n",
    "def common(str1, str2):\n",
    "    text1 = str1.split()\n",
    "    text2 = str2.split()\n",
    "    test = ''\n",
    "#     print(text2)\n",
    "    for i in text1:\n",
    "#         print(i)\n",
    "        if i not in text2:\n",
    "            test = test + \" \" +i\n",
    "    for j in text2:\n",
    "        if j not in text1:\n",
    "            test =test +\" \"+j\n",
    "      \n",
    "            \n",
    "                \n",
    "    return test\n",
    "                \n",
    "                \n",
    "\n",
    "                \n",
    "                         \n",
    "\n",
    "\n",
    "common(\"string is binary\",\"Not binary string\")\n",
    "    \n",
    "    \n",
    "    "
   ]
  },
  {
   "cell_type": "code",
   "execution_count": 68,
   "id": "906a4004",
   "metadata": {},
   "outputs": [
    {
     "name": "stdout",
     "output_type": "stream",
     "text": [
      "dict_keys(['a', 'd', 'f', 'b', 'c'])\n",
      "Counter({'f': 5, 'd': 3, 'a': 2, 'b': 1, 'c': 1})\n",
      "a\n",
      "d\n",
      "f\n"
     ]
    }
   ],
   "source": [
    "# 6.\tWrite a Python to find all duplicate characters in string?\n",
    "from collections import Counter\n",
    "def dupli_cha(str1):\n",
    "    wc = Counter(str1)\n",
    "    print(wc.keys())\n",
    "    \n",
    "    print(wc)\n",
    "    for i in wc.values():\n",
    "        if i >=2:\n",
    "            print(list(wc.keys())[list(wc.values()).index(i)])\n",
    "     \n",
    "        \n",
    "    \n",
    "dupli_cha('aadfdffffbcd')\n"
   ]
  },
  {
   "cell_type": "code",
   "execution_count": 90,
   "id": "8f88c7e8",
   "metadata": {},
   "outputs": [
    {
     "name": "stdout",
     "output_type": "stream",
     "text": [
      "special character <re.Match object; span=(5, 6), match='?'> found\n"
     ]
    }
   ],
   "source": [
    "# 7.\tWrite a Python Program to check if a string contains any special character?\n",
    "import re\n",
    "def spe_find(str1):\n",
    "    regex = re.compile('[@_!#$%^&*()<>?/\\|}{~:]')\n",
    "#     regex = re.compile('[~!@#$%^&*()<>?{[}|\\/]]')    \n",
    "    \n",
    "    if(regex.search(str1)==None):\n",
    "        print(\"Special character is not found\")\n",
    "    else:\n",
    "                print(f\"special character {regex.search(str1)} found\")\n",
    "spe_find(\"dfdfd?fdf\")"
   ]
  },
  {
   "cell_type": "code",
   "execution_count": null,
   "id": "3733ee0b",
   "metadata": {},
   "outputs": [],
   "source": []
  }
 ],
 "metadata": {
  "kernelspec": {
   "display_name": "Python 3 (ipykernel)",
   "language": "python",
   "name": "python3"
  },
  "language_info": {
   "codemirror_mode": {
    "name": "ipython",
    "version": 3
   },
   "file_extension": ".py",
   "mimetype": "text/x-python",
   "name": "python",
   "nbconvert_exporter": "python",
   "pygments_lexer": "ipython3",
   "version": "3.10.4"
  }
 },
 "nbformat": 4,
 "nbformat_minor": 5
}
